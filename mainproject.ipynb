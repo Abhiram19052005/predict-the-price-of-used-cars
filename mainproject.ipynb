{
 "cells": [
  {
   "cell_type": "code",
   "execution_count": 1,
   "id": "c2552357",
   "metadata": {
    "_cell_guid": "b1076dfc-b9ad-4769-8c92-a6c4dae69d19",
    "_uuid": "8f2839f25d086af736a60e9eeb907d3b93b6e0e5",
    "execution": {
     "iopub.execute_input": "2024-06-29T17:07:42.183384Z",
     "iopub.status.busy": "2024-06-29T17:07:42.182905Z",
     "iopub.status.idle": "2024-06-29T17:07:45.505199Z",
     "shell.execute_reply": "2024-06-29T17:07:45.503879Z"
    },
    "papermill": {
     "duration": 3.334062,
     "end_time": "2024-06-29T17:07:45.508038",
     "exception": false,
     "start_time": "2024-06-29T17:07:42.173976",
     "status": "completed"
    },
    "tags": []
   },
   "outputs": [],
   "source": [
    "import datetime\n",
    "\n",
    "import numpy as np\n",
    "import pandas as pd\n",
    "\n",
    "import matplotlib.pyplot as plt\n",
    "import seaborn as sns\n",
    "%matplotlib inline\n",
    "\n",
    "from sklearn.model_selection import train_test_split\n",
    "from sklearn.linear_model import LinearRegression\n",
    "from sklearn.ensemble import RandomForestRegressor\n",
    "from sklearn.preprocessing import StandardScaler\n",
    "from sklearn.metrics import r2_score\n",
    "from sklearn.metrics import mean_absolute_error, mean_squared_error\n",
    "from sklearn.preprocessing import LabelEncoder\n"
   ]
  },
  {
   "cell_type": "code",
   "execution_count": 2,
   "id": "96656f2d",
   "metadata": {
    "execution": {
     "iopub.execute_input": "2024-06-29T17:07:45.525046Z",
     "iopub.status.busy": "2024-06-29T17:07:45.524312Z",
     "iopub.status.idle": "2024-06-29T17:07:45.574470Z",
     "shell.execute_reply": "2024-06-29T17:07:45.572827Z"
    },
    "papermill": {
     "duration": 0.062875,
     "end_time": "2024-06-29T17:07:45.578415",
     "exception": false,
     "start_time": "2024-06-29T17:07:45.515540",
     "status": "completed"
    },
    "tags": []
   },
   "outputs": [
    {
     "data": {
      "text/html": [
       "<div>\n",
       "<style scoped>\n",
       "    .dataframe tbody tr th:only-of-type {\n",
       "        vertical-align: middle;\n",
       "    }\n",
       "\n",
       "    .dataframe tbody tr th {\n",
       "        vertical-align: top;\n",
       "    }\n",
       "\n",
       "    .dataframe thead th {\n",
       "        text-align: right;\n",
       "    }\n",
       "</style>\n",
       "<table border=\"1\" class=\"dataframe\">\n",
       "  <thead>\n",
       "    <tr style=\"text-align: right;\">\n",
       "      <th></th>\n",
       "      <th>car_name</th>\n",
       "      <th>car_price_in_rupees</th>\n",
       "      <th>kms_driven</th>\n",
       "      <th>fuel_type</th>\n",
       "      <th>city</th>\n",
       "      <th>year_of_manufacture</th>\n",
       "    </tr>\n",
       "  </thead>\n",
       "  <tbody>\n",
       "    <tr>\n",
       "      <th>0</th>\n",
       "      <td>Hyundai Grand i10 Magna 1.2 Kappa VTVT [2017-2...</td>\n",
       "      <td>₹ 4.45 Lakh</td>\n",
       "      <td>22,402 km</td>\n",
       "      <td>Petrol</td>\n",
       "      <td>Mumbai</td>\n",
       "      <td>2016</td>\n",
       "    </tr>\n",
       "    <tr>\n",
       "      <th>1</th>\n",
       "      <td>Maruti Suzuki Alto 800 Lxi</td>\n",
       "      <td>₹ 2.93 Lakh</td>\n",
       "      <td>10,344 km</td>\n",
       "      <td>Petrol</td>\n",
       "      <td>Kolkata</td>\n",
       "      <td>2019</td>\n",
       "    </tr>\n",
       "    <tr>\n",
       "      <th>2</th>\n",
       "      <td>Tata Safari XZ Plus New</td>\n",
       "      <td>₹ 22.49 Lakh</td>\n",
       "      <td>12,999 km</td>\n",
       "      <td>Diesel</td>\n",
       "      <td>Bangalore</td>\n",
       "      <td>2021</td>\n",
       "    </tr>\n",
       "    <tr>\n",
       "      <th>3</th>\n",
       "      <td>Maruti Suzuki Ciaz ZXI+</td>\n",
       "      <td>₹ 6.95 Lakh</td>\n",
       "      <td>45,000 km</td>\n",
       "      <td>Petrol</td>\n",
       "      <td>Thane</td>\n",
       "      <td>2016</td>\n",
       "    </tr>\n",
       "    <tr>\n",
       "      <th>4</th>\n",
       "      <td>Jeep Compass Sport Plus 1.4 Petrol [2019-2020]</td>\n",
       "      <td>₹ 12 Lakh</td>\n",
       "      <td>11,193 km</td>\n",
       "      <td>Petrol</td>\n",
       "      <td>Kolkata</td>\n",
       "      <td>2019</td>\n",
       "    </tr>\n",
       "  </tbody>\n",
       "</table>\n",
       "</div>"
      ],
      "text/plain": [
       "                                            car_name car_price_in_rupees  \\\n",
       "0  Hyundai Grand i10 Magna 1.2 Kappa VTVT [2017-2...         ₹ 4.45 Lakh   \n",
       "1                         Maruti Suzuki Alto 800 Lxi         ₹ 2.93 Lakh   \n",
       "2                            Tata Safari XZ Plus New        ₹ 22.49 Lakh   \n",
       "3                            Maruti Suzuki Ciaz ZXI+         ₹ 6.95 Lakh   \n",
       "4     Jeep Compass Sport Plus 1.4 Petrol [2019-2020]           ₹ 12 Lakh   \n",
       "\n",
       "  kms_driven fuel_type       city  year_of_manufacture  \n",
       "0  22,402 km    Petrol     Mumbai                 2016  \n",
       "1  10,344 km    Petrol    Kolkata                 2019  \n",
       "2  12,999 km    Diesel  Bangalore                 2021  \n",
       "3  45,000 km    Petrol      Thane                 2016  \n",
       "4  11,193 km    Petrol    Kolkata                 2019  "
      ]
     },
     "execution_count": 2,
     "metadata": {},
     "output_type": "execute_result"
    }
   ],
   "source": [
    "dataset = pd.read_csv(\"/kaggle/input/data123456/used_car_dataset.csv\")\n",
    "dataset.head(5)"
   ]
  },
  {
   "cell_type": "code",
   "execution_count": 3,
   "id": "6eefc084",
   "metadata": {
    "execution": {
     "iopub.execute_input": "2024-06-29T17:07:45.595112Z",
     "iopub.status.busy": "2024-06-29T17:07:45.594703Z",
     "iopub.status.idle": "2024-06-29T17:07:45.613150Z",
     "shell.execute_reply": "2024-06-29T17:07:45.611968Z"
    },
    "papermill": {
     "duration": 0.030614,
     "end_time": "2024-06-29T17:07:45.616338",
     "exception": false,
     "start_time": "2024-06-29T17:07:45.585724",
     "status": "completed"
    },
    "tags": []
   },
   "outputs": [],
   "source": [
    "X_train, X_test, y_train, y_test = train_test_split(dataset.iloc[:, :-1], \n",
    "                                                    dataset.iloc[:, -1], \n",
    "                                                    test_size = 0.3, \n",
    "                                                    random_state = 42)"
   ]
  },
  {
   "cell_type": "code",
   "execution_count": 4,
   "id": "fd54a587",
   "metadata": {
    "execution": {
     "iopub.execute_input": "2024-06-29T17:07:45.632994Z",
     "iopub.status.busy": "2024-06-29T17:07:45.632563Z",
     "iopub.status.idle": "2024-06-29T17:07:45.658682Z",
     "shell.execute_reply": "2024-06-29T17:07:45.657554Z"
    },
    "papermill": {
     "duration": 0.037561,
     "end_time": "2024-06-29T17:07:45.661334",
     "exception": false,
     "start_time": "2024-06-29T17:07:45.623773",
     "status": "completed"
    },
    "tags": []
   },
   "outputs": [
    {
     "name": "stdout",
     "output_type": "stream",
     "text": [
      "<class 'pandas.core.frame.DataFrame'>\n",
      "Index: 1473 entries, 1831 to 860\n",
      "Data columns (total 5 columns):\n",
      " #   Column               Non-Null Count  Dtype \n",
      "---  ------               --------------  ----- \n",
      " 0   car_name             1473 non-null   object\n",
      " 1   car_price_in_rupees  1473 non-null   object\n",
      " 2   kms_driven           1473 non-null   object\n",
      " 3   fuel_type            1473 non-null   object\n",
      " 4   city                 1473 non-null   object\n",
      "dtypes: object(5)\n",
      "memory usage: 69.0+ KB\n"
     ]
    }
   ],
   "source": [
    "X_train.info()"
   ]
  },
  {
   "cell_type": "code",
   "execution_count": 5,
   "id": "f3269192",
   "metadata": {
    "execution": {
     "iopub.execute_input": "2024-06-29T17:07:45.677368Z",
     "iopub.status.busy": "2024-06-29T17:07:45.676926Z",
     "iopub.status.idle": "2024-06-29T17:07:45.682776Z",
     "shell.execute_reply": "2024-06-29T17:07:45.681609Z"
    },
    "papermill": {
     "duration": 0.016737,
     "end_time": "2024-06-29T17:07:45.685231",
     "exception": false,
     "start_time": "2024-06-29T17:07:45.668494",
     "status": "completed"
    },
    "tags": []
   },
   "outputs": [],
   "source": [
    "X_train = X_train.iloc[:, 1:]\n",
    "X_test = X_test.iloc[:, 1:]"
   ]
  },
  {
   "cell_type": "code",
   "execution_count": 6,
   "id": "23f33afd",
   "metadata": {
    "execution": {
     "iopub.execute_input": "2024-06-29T17:07:45.701814Z",
     "iopub.status.busy": "2024-06-29T17:07:45.701031Z",
     "iopub.status.idle": "2024-06-29T17:07:45.710775Z",
     "shell.execute_reply": "2024-06-29T17:07:45.709321Z"
    },
    "papermill": {
     "duration": 0.021066,
     "end_time": "2024-06-29T17:07:45.713589",
     "exception": false,
     "start_time": "2024-06-29T17:07:45.692523",
     "status": "completed"
    },
    "tags": []
   },
   "outputs": [
    {
     "name": "stdout",
     "output_type": "stream",
     "text": [
      "car_name\n",
      "Maruti Suzuki Wagon R 1.0 VXI        25\n",
      "Maruti Suzuki Alto 800 Lxi           23\n",
      "Maruti Suzuki Wagon R 1.0 LXI CNG    21\n",
      "Maruti Suzuki Baleno Delta 1.2       18\n",
      "Honda City V                         17\n",
      "                                     ..\n",
      "Ford Fiesta Exi 1.6 Duratec Ltd       1\n",
      "Renault Triber RXZ                    1\n",
      "BMW 7 Series 730Ld                    1\n",
      "Nissan Sunny XL D                     1\n",
      "Maruti Suzuki Ciaz VXi+ AT            1\n",
      "Name: count, Length: 946, dtype: int64\n"
     ]
    }
   ],
   "source": [
    "car_name_counts = dataset['car_name'].value_counts()\n",
    "print(car_name_counts)"
   ]
  },
  {
   "cell_type": "code",
   "execution_count": 7,
   "id": "e49af002",
   "metadata": {
    "execution": {
     "iopub.execute_input": "2024-06-29T17:07:45.731028Z",
     "iopub.status.busy": "2024-06-29T17:07:45.730044Z",
     "iopub.status.idle": "2024-06-29T17:07:45.759526Z",
     "shell.execute_reply": "2024-06-29T17:07:45.758309Z"
    },
    "papermill": {
     "duration": 0.041555,
     "end_time": "2024-06-29T17:07:45.762561",
     "exception": false,
     "start_time": "2024-06-29T17:07:45.721006",
     "status": "completed"
    },
    "tags": []
   },
   "outputs": [
    {
     "name": "stdout",
     "output_type": "stream",
     "text": [
      "           0       1         2            3     4     5            6     7   \\\n",
      "874    Maruti  Suzuki  S-Presso          VXi  None  None         None  None   \n",
      "650    Maruti  Suzuki    Vitara       Brezza   ZDi  Plus          AGS  None   \n",
      "1596  Hyundai  Santro     Magna  [2018-2020]  None  None         None  None   \n",
      "1578      Kia   Sonet       HTX         Plus   1.0   iMT  [2020-2021]  None   \n",
      "1560  Hyundai   Elite       i20         Asta   1.2  None         None  None   \n",
      "\n",
      "        8     9     10  \n",
      "874   None  None  None  \n",
      "650   None  None  None  \n",
      "1596  None  None  None  \n",
      "1578  None  None  None  \n",
      "1560  None  None  None  \n",
      "               0       1         2      3            4       5     6       7  \\\n",
      "1432      Maruti  Suzuki      Ciaz  Delta          1.3  Hybrid  None    None   \n",
      "342      Renault  Duster        85     PS          RXS     4X2    MT  Diesel   \n",
      "984          Kia   Sonet       HTE    1.2  [2020-2021]    None  None    None   \n",
      "2007     Hyundai   Xcent         S    1.2          (O)    None  None    None   \n",
      "1342  Volkswagen   Vento  Highline   Plus          1.2     (P)    AT      16   \n",
      "\n",
      "          8     9  \n",
      "1432   None  None  \n",
      "342    None  None  \n",
      "984    None  None  \n",
      "2007   None  None  \n",
      "1342  Alloy  None  \n"
     ]
    }
   ],
   "source": [
    "X = dataset.drop('car_price_in_rupees', axis=1)  # Assuming 'car_price_in_rupees' is the target variable\n",
    "y = dataset['car_price_in_rupees']\n",
    "X_train, X_test, y_train, y_test = train_test_split(X, y, test_size=0.2, random_state=42)\n",
    "\n",
    "# Split the 'car_name' column\n",
    "make_train = X_train[\"car_name\"].str.split(\" \", expand=True)\n",
    "make_test = X_test[\"car_name\"].str.split(\" \", expand=True)\n",
    "\n",
    "print(make_train.head())\n",
    "print(make_test.head())"
   ]
  },
  {
   "cell_type": "code",
   "execution_count": 8,
   "id": "ff5d5953",
   "metadata": {
    "execution": {
     "iopub.execute_input": "2024-06-29T17:07:45.780099Z",
     "iopub.status.busy": "2024-06-29T17:07:45.779716Z",
     "iopub.status.idle": "2024-06-29T17:07:45.793529Z",
     "shell.execute_reply": "2024-06-29T17:07:45.792307Z"
    },
    "papermill": {
     "duration": 0.026161,
     "end_time": "2024-06-29T17:07:45.796349",
     "exception": false,
     "start_time": "2024-06-29T17:07:45.770188",
     "status": "completed"
    },
    "tags": []
   },
   "outputs": [],
   "source": [
    "# Split the 'car_name' column to extract the manufacturer name\n",
    "make_train = X_train[\"car_name\"].str.split(\" \", expand=True)\n",
    "make_test = X_test[\"car_name\"].str.split(\" \", expand=True)"
   ]
  },
  {
   "cell_type": "code",
   "execution_count": 9,
   "id": "0091d29b",
   "metadata": {
    "execution": {
     "iopub.execute_input": "2024-06-29T17:07:45.814059Z",
     "iopub.status.busy": "2024-06-29T17:07:45.813008Z",
     "iopub.status.idle": "2024-06-29T17:07:45.820774Z",
     "shell.execute_reply": "2024-06-29T17:07:45.819479Z"
    },
    "papermill": {
     "duration": 0.01932,
     "end_time": "2024-06-29T17:07:45.823143",
     "exception": false,
     "start_time": "2024-06-29T17:07:45.803823",
     "status": "completed"
    },
    "tags": []
   },
   "outputs": [],
   "source": [
    "X_train[\"Manufacturer\"] = make_train[0]\n",
    "X_test[\"Manufacturer\"] = make_test[0]\n"
   ]
  },
  {
   "cell_type": "code",
   "execution_count": 10,
   "id": "4daaf8ae",
   "metadata": {
    "execution": {
     "iopub.execute_input": "2024-06-29T17:07:45.840362Z",
     "iopub.status.busy": "2024-06-29T17:07:45.839898Z",
     "iopub.status.idle": "2024-06-29T17:07:46.613926Z",
     "shell.execute_reply": "2024-06-29T17:07:46.612732Z"
    },
    "papermill": {
     "duration": 0.786411,
     "end_time": "2024-06-29T17:07:46.617052",
     "exception": false,
     "start_time": "2024-06-29T17:07:45.830641",
     "status": "completed"
    },
    "tags": []
   },
   "outputs": [
    {
     "data": {
      "text/plain": [
       "Text(0, 0.5, 'Count of cars')"
      ]
     },
     "execution_count": 10,
     "metadata": {},
     "output_type": "execute_result"
    },
    {
     "data": {
      "image/png": "[encoded data removed]",
      "text/plain": [
       "<Figure size 1200x800 with 1 Axes>"
      ]
     },
     "metadata": {},
     "output_type": "display_data"
    }
   ],
   "source": [
    "plt.figure(figsize = (12, 8))\n",
    "plot = sns.countplot(x = 'Manufacturer', data = X_train)\n",
    "plt.xticks(rotation = 90)\n",
    "for p in plot.patches:\n",
    "    plot.annotate(p.get_height(), \n",
    "                        (p.get_x() + p.get_width() / 2.0, \n",
    "                         p.get_height()), \n",
    "                        ha = 'center', \n",
    "                        va = 'center', \n",
    "                        xytext = (0, 5),\n",
    "                        textcoords = 'offset points')\n",
    "\n",
    "plt.title(\"Count of cars based on manufacturers\")\n",
    "plt.xlabel(\"Manufacturer\")\n",
    "plt.ylabel(\"Count of cars\")"
   ]
  },
  {
   "cell_type": "code",
   "execution_count": 11,
   "id": "0aab44a4",
   "metadata": {
    "execution": {
     "iopub.execute_input": "2024-06-29T17:07:46.636302Z",
     "iopub.status.busy": "2024-06-29T17:07:46.635883Z",
     "iopub.status.idle": "2024-06-29T17:07:46.643696Z",
     "shell.execute_reply": "2024-06-29T17:07:46.642519Z"
    },
    "papermill": {
     "duration": 0.020193,
     "end_time": "2024-06-29T17:07:46.646066",
     "exception": false,
     "start_time": "2024-06-29T17:07:46.625873",
     "status": "completed"
    },
    "tags": []
   },
   "outputs": [],
   "source": [
    "X_train.drop(\"car_name\", axis = 1, inplace = True)\n",
    "X_test.drop(\"car_name\", axis = 1, inplace = True)"
   ]
  },
  {
   "cell_type": "code",
   "execution_count": 12,
   "id": "f9898f19",
   "metadata": {
    "execution": {
     "iopub.execute_input": "2024-06-29T17:07:46.665312Z",
     "iopub.status.busy": "2024-06-29T17:07:46.664898Z",
     "iopub.status.idle": "2024-06-29T17:07:46.673443Z",
     "shell.execute_reply": "2024-06-29T17:07:46.672286Z"
    },
    "papermill": {
     "duration": 0.021406,
     "end_time": "2024-06-29T17:07:46.676181",
     "exception": false,
     "start_time": "2024-06-29T17:07:46.654775",
     "status": "completed"
    },
    "tags": []
   },
   "outputs": [],
   "source": [
    "if 'city' in X_train.columns:\n",
    "    X_train.drop('city', axis=1, inplace=True)\n",
    "\n",
    "if 'city' in X_test.columns:\n",
    "    X_test.drop('city', axis=1, inplace=True)\n"
   ]
  },
  {
   "cell_type": "code",
   "execution_count": 13,
   "id": "dbf8b90a",
   "metadata": {
    "execution": {
     "iopub.execute_input": "2024-06-29T17:07:46.695364Z",
     "iopub.status.busy": "2024-06-29T17:07:46.694921Z",
     "iopub.status.idle": "2024-06-29T17:07:46.709496Z",
     "shell.execute_reply": "2024-06-29T17:07:46.708281Z"
    },
    "papermill": {
     "duration": 0.027472,
     "end_time": "2024-06-29T17:07:46.712440",
     "exception": false,
     "start_time": "2024-06-29T17:07:46.684968",
     "status": "completed"
    },
    "tags": []
   },
   "outputs": [
    {
     "name": "stdout",
     "output_type": "stream",
     "text": [
      "     kms_driven fuel_type  year_of_manufacture Manufacturer\n",
      "874   31,651 km    Petrol                 2020       Maruti\n",
      "650   93,500 km    Diesel                 2018       Maruti\n",
      "1596  24,669 km    Petrol                 2020      Hyundai\n",
      "1578  18,169 km    Petrol                 2020          Kia\n",
      "1560  41,068 km    Petrol                 2018      Hyundai\n",
      "     kms_driven fuel_type  year_of_manufacture Manufacturer\n",
      "1432  57,498 km    Diesel                 2017       Maruti\n",
      "342   39,030 km    Diesel                 2018      Renault\n",
      "984    7,500 km    Petrol                 2021          Kia\n",
      "2007  44,000 km    Petrol                 2015      Hyundai\n",
      "1342  40,000 km    Petrol                 2018   Volkswagen\n"
     ]
    }
   ],
   "source": [
    "# Check and drop 'city' column if it exists\n",
    "if 'city' in X_train.columns:\n",
    "    X_train.drop('city', axis=1, inplace=True)\n",
    "if 'city' in X_test.columns:\n",
    "    X_test.drop('city', axis=1, inplace=True)\n",
    "\n",
    "# Calculate the age of the cars\n",
    "curr_time = datetime.datetime.now()\n",
    "if 'Year' in X_train.columns and 'Year' in X_test.columns:\n",
    "    X_train['Year'] = X_train['Year'].apply(lambda x: curr_time.year - x)\n",
    "    X_test['Year'] = X_test['Year'].apply(lambda x: curr_time.year - x)\n",
    "\n",
    "# Display the first few rows of the modified X_train and X_test\n",
    "print(X_train.head())\n",
    "print(X_test.head())"
   ]
  },
  {
   "cell_type": "code",
   "execution_count": 14,
   "id": "4316b17f",
   "metadata": {
    "execution": {
     "iopub.execute_input": "2024-06-29T17:07:46.732062Z",
     "iopub.status.busy": "2024-06-29T17:07:46.731175Z",
     "iopub.status.idle": "2024-06-29T17:07:46.740365Z",
     "shell.execute_reply": "2024-06-29T17:07:46.739231Z"
    },
    "papermill": {
     "duration": 0.021801,
     "end_time": "2024-06-29T17:07:46.742944",
     "exception": false,
     "start_time": "2024-06-29T17:07:46.721143",
     "status": "completed"
    },
    "tags": []
   },
   "outputs": [
    {
     "data": {
      "text/plain": [
       "874     31,651 km\n",
       "650     93,500 km\n",
       "1596    24,669 km\n",
       "1578    18,169 km\n",
       "1560    41,068 km\n",
       "          ...    \n",
       "1638    24,858 km\n",
       "1095    41,624 km\n",
       "1130     9,578 km\n",
       "1294    54,982 km\n",
       "860     33,053 km\n",
       "Name: kms_driven, Length: 1684, dtype: object"
      ]
     },
     "execution_count": 14,
     "metadata": {},
     "output_type": "execute_result"
    }
   ],
   "source": [
    "X_train[\"kms_driven\"]\n"
   ]
  },
  {
   "cell_type": "code",
   "execution_count": 15,
   "id": "5a3d50c7",
   "metadata": {
    "execution": {
     "iopub.execute_input": "2024-06-29T17:07:46.762832Z",
     "iopub.status.busy": "2024-06-29T17:07:46.762405Z",
     "iopub.status.idle": "2024-06-29T17:07:46.774476Z",
     "shell.execute_reply": "2024-06-29T17:07:46.773298Z"
    },
    "papermill": {
     "duration": 0.024877,
     "end_time": "2024-06-29T17:07:46.777278",
     "exception": false,
     "start_time": "2024-06-29T17:07:46.752401",
     "status": "completed"
    },
    "tags": []
   },
   "outputs": [
    {
     "name": "stdout",
     "output_type": "stream",
     "text": [
      "     kms_driven fuel_type  year_of_manufacture Manufacturer\n",
      "874   31,651 km    Petrol                 2020       Maruti\n",
      "650   93,500 km    Diesel                 2018       Maruti\n",
      "1596  24,669 km    Petrol                 2020      Hyundai\n",
      "1578  18,169 km    Petrol                 2020          Kia\n",
      "1560  41,068 km    Petrol                 2018      Hyundai\n",
      "     kms_driven fuel_type  year_of_manufacture Manufacturer\n",
      "1432  57,498 km    Diesel                 2017       Maruti\n",
      "342   39,030 km    Diesel                 2018      Renault\n",
      "984    7,500 km    Petrol                 2021          Kia\n",
      "2007  44,000 km    Petrol                 2015      Hyundai\n",
      "1342  40,000 km    Petrol                 2018   Volkswagen\n"
     ]
    }
   ],
   "source": [
    "if 'New_Price' in X_train.columns:\n",
    "    X_train.drop('New_Price', axis=1, inplace=True)\n",
    "if 'New_Price' in X_test.columns:\n",
    "    X_test.drop('New_Price', axis=1, inplace=True)\n",
    "\n",
    "# Display the first few rows of the modified X_train and X_test\n",
    "print(X_train.head())\n",
    "print(X_test.head())"
   ]
  },
  {
   "cell_type": "markdown",
   "id": "64158546",
   "metadata": {
    "papermill": {
     "duration": 0.008684,
     "end_time": "2024-06-29T17:07:46.795076",
     "exception": false,
     "start_time": "2024-06-29T17:07:46.786392",
     "status": "completed"
    },
    "tags": []
   },
   "source": []
  },
  {
   "cell_type": "code",
   "execution_count": 16,
   "id": "62a82fcb",
   "metadata": {
    "execution": {
     "iopub.execute_input": "2024-06-29T17:07:46.815461Z",
     "iopub.status.busy": "2024-06-29T17:07:46.815004Z",
     "iopub.status.idle": "2024-06-29T17:07:46.840605Z",
     "shell.execute_reply": "2024-06-29T17:07:46.839194Z"
    },
    "papermill": {
     "duration": 0.039254,
     "end_time": "2024-06-29T17:07:46.843323",
     "exception": false,
     "start_time": "2024-06-29T17:07:46.804069",
     "status": "completed"
    },
    "tags": []
   },
   "outputs": [
    {
     "name": "stdout",
     "output_type": "stream",
     "text": [
      "     kms_driven  year_of_manufacture Manufacturer  fuel_type_Diesel  \\\n",
      "874   31,651 km                 2020       Maruti             False   \n",
      "650   93,500 km                 2018       Maruti              True   \n",
      "1596  24,669 km                 2020      Hyundai             False   \n",
      "1578  18,169 km                 2020          Kia             False   \n",
      "1560  41,068 km                 2018      Hyundai             False   \n",
      "\n",
      "      fuel_type_Diesel + 1  fuel_type_Electric  fuel_type_Hybrid  \\\n",
      "874                  False               False             False   \n",
      "650                  False               False             False   \n",
      "1596                 False               False             False   \n",
      "1578                 False               False             False   \n",
      "1560                 False               False             False   \n",
      "\n",
      "      fuel_type_LPG  fuel_type_Petrol  fuel_type_Petrol + 1  \n",
      "874           False              True                 False  \n",
      "650           False             False                 False  \n",
      "1596          False              True                 False  \n",
      "1578          False              True                 False  \n",
      "1560          False              True                 False  \n",
      "     kms_driven  year_of_manufacture Manufacturer  fuel_type_Diesel  \\\n",
      "1432  57,498 km                 2017       Maruti              True   \n",
      "342   39,030 km                 2018      Renault              True   \n",
      "984    7,500 km                 2021          Kia             False   \n",
      "2007  44,000 km                 2015      Hyundai             False   \n",
      "1342  40,000 km                 2018   Volkswagen             False   \n",
      "\n",
      "      fuel_type_Diesel + 1  fuel_type_Electric  fuel_type_Hybrid  \\\n",
      "1432                 False               False             False   \n",
      "342                  False               False             False   \n",
      "984                  False               False             False   \n",
      "2007                 False               False             False   \n",
      "1342                 False               False             False   \n",
      "\n",
      "      fuel_type_LPG  fuel_type_Petrol  fuel_type_Petrol + 1  \n",
      "1432              0             False                 False  \n",
      "342               0             False                 False  \n",
      "984               0              True                 False  \n",
      "2007              0              True                 False  \n",
      "1342              0              True                 False  \n"
     ]
    }
   ],
   "source": [
    "# Define the correct categorical columns for one-hot encoding\n",
    "categorical_columns = [\"fuel_type\"]  # Add other categorical columns as needed\n",
    "\n",
    "# Check if the categorical columns exist before encoding\n",
    "for column in categorical_columns:\n",
    "    if column not in X_train.columns:\n",
    "        print(f\"Column '{column}' not found in X_train.\")\n",
    "    if column not in X_test.columns:\n",
    "        print(f\"Column '{column}' not found in X_test.\")\n",
    "\n",
    "# Perform one-hot encoding\n",
    "X_train = pd.get_dummies(X_train, columns=categorical_columns, drop_first=True)\n",
    "X_test = pd.get_dummies(X_test, columns=categorical_columns, drop_first=True)\n",
    "\n",
    "# Align columns of X_test to X_train\n",
    "X_test = X_test.reindex(columns=X_train.columns, fill_value=0)\n",
    "\n",
    "# Display the first few rows of the modified X_train and X_test\n",
    "print(X_train.head())\n",
    "print(X_test.head())"
   ]
  },
  {
   "cell_type": "code",
   "execution_count": 17,
   "id": "339342c1",
   "metadata": {
    "execution": {
     "iopub.execute_input": "2024-06-29T17:07:46.863632Z",
     "iopub.status.busy": "2024-06-29T17:07:46.863178Z",
     "iopub.status.idle": "2024-06-29T17:07:47.450272Z",
     "shell.execute_reply": "2024-06-29T17:07:47.449088Z"
    },
    "papermill": {
     "duration": 0.601012,
     "end_time": "2024-06-29T17:07:47.453643",
     "exception": false,
     "start_time": "2024-06-29T17:07:46.852631",
     "status": "completed"
    },
    "tags": []
   },
   "outputs": [
    {
     "data": {
      "text/plain": [
       "(0.16265741880046836, 0.09673992978180213)"
      ]
     },
     "execution_count": 17,
     "metadata": {},
     "output_type": "execute_result"
    }
   ],
   "source": [
    "def convert_price(price):\n",
    "    price = price.replace('₹', '').replace(',', '').strip()\n",
    "    if 'Lakh' in price:\n",
    "        return float(price.replace('Lakh', '').strip()) * 1e5\n",
    "    elif 'Crore' in price:\n",
    "        return float(price.replace('Crore', '').strip()) * 1e7\n",
    "    else:\n",
    "        return float(price)\n",
    "\n",
    "dataset['car_price_in_rupees'] = dataset['car_price_in_rupees'].apply(convert_price)\n",
    "\n",
    "# Convert kms driven to numeric\n",
    "dataset['kms_driven'] = dataset['kms_driven'].str.replace(',', '').str.replace(' km', '').astype(float)\n",
    "\n",
    "# Encode categorical features\n",
    "le_fuel = LabelEncoder()\n",
    "le_city = LabelEncoder()\n",
    "dataset['fuel_type'] = le_fuel.fit_transform(dataset['fuel_type'])\n",
    "dataset['city'] = le_city.fit_transform(dataset['city'])\n",
    "\n",
    "# Features and target\n",
    "X = dataset[['kms_driven', 'fuel_type', 'city', 'year_of_manufacture']]\n",
    "y = dataset['car_price_in_rupees']\n",
    "\n",
    "# Split the data into training and testing sets\n",
    "X_train, X_test, y_train, y_test = train_test_split(X, y, test_size=0.2, random_state=42)\n",
    "\n",
    "# Linear Regression model\n",
    "linear_regression = LinearRegression()\n",
    "linear_regression.fit(X_train, y_train)\n",
    "y_pred_lr = linear_regression.predict(X_test)\n",
    "r2_score_lr = r2_score(y_test, y_pred_lr)\n",
    "\n",
    "# Random Forest Regressor model\n",
    "rf = RandomForestRegressor(n_estimators=100, random_state=42)\n",
    "rf.fit(X_train, y_train)\n",
    "y_pred_rf = rf.predict(X_test)\n",
    "r2_score_rf = r2_score(y_test, y_pred_rf)\n",
    "\n",
    "r2_score_lr, r2_score_rf"
   ]
  }
 ],
 "metadata": {
  "kaggle": {
   "accelerator": "none",
   "dataSources": [
    {
     "datasetId": 5303638,
     "sourceId": 8816515,
     "sourceType": "datasetVersion"
    }
   ],
   "dockerImageVersionId": 30732,
   "isGpuEnabled": false,
   "isInternetEnabled": false,
   "language": "python",
   "sourceType": "notebook"
  },
  "kernelspec": {
   "display_name": "Python 3",
   "language": "python",
   "name": "python3"
  },
  "language_info": {
   "codemirror_mode": {
    "name": "ipython",
    "version": 3
   },
   "file_extension": ".py",
   "mimetype": "text/x-python",
   "name": "python",
   "nbconvert_exporter": "python",
   "pygments_lexer": "ipython3",
   "version": "3.10.13"
  },
  "papermill": {
   "default_parameters": {},
   "duration": 9.169034,
   "end_time": "2024-06-29T17:07:48.186429",
   "environment_variables": {},
   "exception": null,
   "input_path": "__notebook__.ipynb",
   "output_path": "__notebook__.ipynb",
   "parameters": {},
   "start_time": "2024-06-29T17:07:39.017395",
   "version": "2.5.0"
  }
 },
 "nbformat": 4,
 "nbformat_minor": 5
}
